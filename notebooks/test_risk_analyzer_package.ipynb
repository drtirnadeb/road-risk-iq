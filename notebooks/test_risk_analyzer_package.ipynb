{
 "cells": [
  {
   "cell_type": "markdown",
   "id": "98fb0c93-dcd4-412c-80da-5c7d582c48ac",
   "metadata": {},
   "source": [
    "# ✅ Quick Test: RiskAnalyzer Package\n",
    "\n",
    "This notebook verifies that the `accidents` package is installed and functional.\n",
    "\n",
    "It runs a simple test case using mock data and prints the output risk scores.\n"
   ]
  },
  {
   "cell_type": "code",
   "execution_count": 2,
   "id": "0d955496-27f9-4a18-991b-bfe05abedf57",
   "metadata": {},
   "outputs": [
    {
     "name": "stdout",
     "output_type": "stream",
     "text": [
      "       Accident_Count  Avg_Severity  Population  Accident_Rate  Rate_Norm  \\\n",
      "State                                                                       \n",
      "CA                  1           2.5    39538223       0.002529   0.000000   \n",
      "NY                  1           1.5    20201249       0.004950   1.000000   \n",
      "TX                  1           2.0    29145505       0.003431   0.372518   \n",
      "\n",
      "       Severity_Norm  Composite_Risk_Score  \n",
      "State                                       \n",
      "CA               1.0              0.500000  \n",
      "NY               0.0              0.500000  \n",
      "TX               0.5              0.436259  \n"
     ]
    }
   ],
   "source": [
    "from accidents import RiskAnalyzer\n",
    "\n",
    "# Confirm it works with a simple test\n",
    "import pandas as pd\n",
    "\n",
    "df = pd.DataFrame({\n",
    "    'State': ['CA', 'TX', 'NY'],\n",
    "    'Severity': [2.5, 2.0, 1.5]\n",
    "})\n",
    "pop_dict = {'CA': 39538223, 'TX': 29145505, 'NY': 20201249}\n",
    "\n",
    "analyzer = RiskAnalyzer(df, pop_dict)\n",
    "print(analyzer.compute_risk_scores())\n"
   ]
  },
  {
   "cell_type": "code",
   "execution_count": null,
   "id": "5d5f081b-8c5e-4f73-a2f2-f15c1024d123",
   "metadata": {},
   "outputs": [],
   "source": []
  }
 ],
 "metadata": {
  "kernelspec": {
   "display_name": "Python 3 (ipykernel)",
   "language": "python",
   "name": "python3"
  },
  "language_info": {
   "codemirror_mode": {
    "name": "ipython",
    "version": 3
   },
   "file_extension": ".py",
   "mimetype": "text/x-python",
   "name": "python",
   "nbconvert_exporter": "python",
   "pygments_lexer": "ipython3",
   "version": "3.12.2"
  }
 },
 "nbformat": 4,
 "nbformat_minor": 5
}
